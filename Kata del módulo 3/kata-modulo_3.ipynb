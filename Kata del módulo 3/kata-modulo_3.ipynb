{
 "cells": [
  {
   "cell_type": "code",
   "execution_count": null,
   "metadata": {},
   "outputs": [],
   "source": []
  },
  {
   "cell_type": "markdown",
   "metadata": {},
   "source": [
    "## Declaraciones IF, ELSE, Y ELIF\n",
    "#### Ejercicio 1"
   ]
  },
  {
   "cell_type": "code",
   "execution_count": 2,
   "metadata": {},
   "outputs": [
    {
     "name": "stdout",
     "output_type": "stream",
     "text": [
      "No hay peligro de asteroide\n"
     ]
    }
   ],
   "source": [
    "velocidad_asteroide = 49\n",
    "velocidad_peligrosa = 25\n",
    "\n",
    "if velocidad_asteroide >= velocidad_peligrosa:\n",
    "    print(\"!PELIGRO¡ Asteroide en exceso de velocidad\")\n",
    "else:\n",
    "    print(\"No hay peligro de asteroide\")"
   ]
  },
  {
   "cell_type": "markdown",
   "metadata": {},
   "source": [
    "#### Ejercicio 2"
   ]
  },
  {
   "cell_type": "code",
   "execution_count": 14,
   "metadata": {},
   "outputs": [
    {
     "name": "stdout",
     "output_type": "stream",
     "text": [
      "No puedes ver el rayo de luz del asteroide que va a una velocidad de 19Km/s\n"
     ]
    }
   ],
   "source": [
    "velocidad_asteroide = 19\n",
    "velocidad_peligrosa = 20\n",
    "\n",
    "if velocidad_asteroide >= velocidad_peligrosa:\n",
    "    print(\"Puedes ver el rayo de luz del asteroide que va a una velocidad de \" + str(velocidad_asteroide) + \"Km/s\")\n",
    "elif velocidad_asteroide <= 0:\n",
    "    print(\"Hoy no hay asteroide\")\n",
    "else:\n",
    "    print(\"No puedes ver suficiente rayo de luz del asteroide que va a una velocidad de \" + str(velocidad_asteroide) + \"Km/s\")"
   ]
  },
  {
   "cell_type": "markdown",
   "metadata": {},
   "source": [
    "#### Ejercicio 3"
   ]
  },
  {
   "cell_type": "code",
   "execution_count": 30,
   "metadata": {},
   "outputs": [
    {
     "name": "stdout",
     "output_type": "stream",
     "text": [
      "No hay peligro alguno\n"
     ]
    }
   ],
   "source": [
    "velocidad_asteroide = 10\n",
    "tamaño_asteroide = 15\n",
    "\n",
    "if velocidad_asteroide >= 20:\n",
    "    if tamaño_asteroide >= 25 and tamaño_asteroide <= 1000:\n",
    "        print(\"¡PELIGRO EXTREMO! ASTEROIDE EN VELOCIDAD Y TAMAÑO EXORBITANTE\")\n",
    "    else:\n",
    "        print(\"¡Precaución! Asteroide a velocidad alta, pero de tamaño pequeño, se puede ver rayo de luz\")\n",
    "elif tamaño_asteroide >= 25 and tamaño_asteroide <= 1000:\n",
    "    print(\"¡Precaución! Asteroide de tamaño enorme, pero a velocidad lenta, alta posibilidad de desintegración\")\n",
    "else:\n",
    "    print(\"No hay peligro alguno\")\n"
   ]
  }
 ],
 "metadata": {
  "interpreter": {
   "hash": "085635c7bab703e7bb5a41fe64c7278518d529ae783e191374674f75ba478b45"
  },
  "kernelspec": {
   "display_name": "Python 3.10.2 64-bit",
   "language": "python",
   "name": "python3"
  },
  "language_info": {
   "codemirror_mode": {
    "name": "ipython",
    "version": 3
   },
   "file_extension": ".py",
   "mimetype": "text/x-python",
   "name": "python",
   "nbconvert_exporter": "python",
   "pygments_lexer": "ipython3",
   "version": "3.10.2"
  },
  "orig_nbformat": 4
 },
 "nbformat": 4,
 "nbformat_minor": 2
}
